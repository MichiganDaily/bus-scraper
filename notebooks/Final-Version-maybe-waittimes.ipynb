{
 "cells": [
  {
   "cell_type": "code",
   "execution_count": 1,
   "id": "eb0d55b8",
   "metadata": {},
   "outputs": [],
   "source": [
    "import pandas as pd\n",
    "import numpy as np\n",
    "import matplotlib.pyplot as plt\n",
    "import seaborn as sns\n",
    "sns.set()\n",
    "\n",
    "import datetime"
   ]
  },
  {
   "cell_type": "code",
   "execution_count": 34,
   "id": "9cc78ccd",
   "metadata": {},
   "outputs": [],
   "source": [
    "df = pd.read_csv(r'/Users/Angela/Desktop/thursday.csv')\n",
    "dfOldData = pd.read_csv(r'/Users/Angela/Desktop/output.csv')"
   ]
  },
  {
   "cell_type": "code",
   "execution_count": 3,
   "id": "a7c373d7",
   "metadata": {},
   "outputs": [
    {
     "data": {
      "text/plain": [
       "array(['BB', 'NW', 'WX', 'MX', 'CN', 'CS', 'WS', 'NE', 'NX', 'DD', 'CSX'],\n",
       "      dtype=object)"
      ]
     },
     "execution_count": 3,
     "metadata": {},
     "output_type": "execute_result"
    }
   ],
   "source": [
    "df.rt.unique()"
   ]
  },
  {
   "cell_type": "code",
   "execution_count": 4,
   "id": "5eff9a62",
   "metadata": {},
   "outputs": [
    {
     "data": {
      "text/plain": [
       "array(['Baits II Inbound', 'Bursley Hall Inbound',\n",
       "       'Hayward/Hubbard  Hubbard Outbound', 'Glen/Catherine Outbound',\n",
       "       'Fuller Rd at Mitchell Field  Lot M-75',\n",
       "       'Central Campus Transit Center: Ruthven Museum',\n",
       "       'Pierpont Commons  Murfin Outbound', 'FXB Inbound',\n",
       "       'Cooley Lab Inbound', 'Northwood I Outbound',\n",
       "       'NCAC, Hubbard Outbound',\n",
       "       'Fuller Rd at Lot NC-78  Mitchell Field (1)', 'Northwood V (3)',\n",
       "       'Power Center', 'Glen/Catherine Inbound',\n",
       "       'Pierpont Commons  Bonisteel Inbound', 'Cardiovascular Center',\n",
       "       'NCAC  Hubbard Inbound', 'Hayward/Hubbard  Hubbard Inbound',\n",
       "       'Plymouth Rd Crosswalk', 'Northwood Community Center',\n",
       "       'Northwood III Outbound', 'Northwood II Outbound',\n",
       "       'Stockwell Hall Outbound', 'Rackham Bldg',\n",
       "       'Central Campus Transit Center: Chemistry', 'Couzens Hall',\n",
       "       'Cancer Center Inbound', 'Mott Hospital', 'Markley Hall',\n",
       "       'Taubman Outbound', 'Cancer Center Outbound', 'Taubman Inbound',\n",
       "       'Maiden Lane', 'Wall St Structure', 'Glazier Way  Lot NC-51  West',\n",
       "       'Glazier Way  Lot NC-51  North', 'Glazier Way  Lot NC-51  East',\n",
       "       'Fuller Rd at Lot NC-78  Mitchell Field (3)',\n",
       "       'VA Hospital  Fuller Rd', 'Art & Architecture', 'FXB Outbound',\n",
       "       'Crisler Center/Lot SC-7', 'Facilities Services Building',\n",
       "       'Intramural Building Outbound', 'Law Quad',\n",
       "       'Michigan Union  S. State', 'Kraus Building',\n",
       "       'Hayward/Hubbard  Hayward Outbound', 'North Ingalls Building',\n",
       "       'Biomedical Science Research Bldg',\n",
       "       'Institute for Continuing Legal Education', 'NCRC South',\n",
       "       'Biomedical Engineering Bldg', 'Green Rd Park & Ride Outbound',\n",
       "       'Oxford Housing', 'East Quad  Church', 'Henderson House'],\n",
       "      dtype=object)"
      ]
     },
     "execution_count": 4,
     "metadata": {},
     "output_type": "execute_result"
    }
   ],
   "source": [
    "df.stpnm.unique()"
   ]
  },
  {
   "cell_type": "code",
   "execution_count": 35,
   "id": "d52c024c",
   "metadata": {},
   "outputs": [],
   "source": [
    "def formatting(indata) :\n",
    "    indata.tmstmp = pd.to_datetime(indata.tmstmp)\n",
    "    stoptimes = indata.groupby([indata.tmstmp.dt.date, \"tatripid\",\"rtdir\",\"stpnm\",\"rt\"]).agg(\"last\")\n",
    "# stoptimes = df.groupby([df.tmstmp.dt.date,'tatripid']).agg(\"last\")\n",
    "    stoptimes.index.names = [\"date\", \"tatripid\",\"rtdir\",\"stpnm\",\"rt\"]\n",
    "    stoptimes = stoptimes.reset_index(level=[2,3,4])\n",
    "#     stoptimes['rtdir'] = stoptimes.index.get_level_values('rtdir')\n",
    "#     stoptimes[\"stpnm\"] = stoptimes.index.get_level_values(\"stpnm\")\n",
    "#     stoptimes[\"rt\"] = stoptimes.index.get_level_values(\"rt\")\n",
    "#     stoptimes.tmstmp.reset_index(level=1)\n",
    "    return stoptimes\n",
    "# waittimes = stoptimes.tmstmp.reset_index(level=1).groupby([\"date\"]).agg(lambda x: x.sort_values().diff())\n",
    "# waittimes"
   ]
  },
  {
   "cell_type": "code",
   "execution_count": 6,
   "id": "c54c161c",
   "metadata": {},
   "outputs": [],
   "source": [
    "# def formatting(indata, stops, direction) :\n",
    "#     indata.tmstmp = pd.to_datetime(indata.tmstmp)\n",
    "#     stoptimes = indata[indata.rtdir.eq(direction) & indata.stpnm.isin(stops)]\n",
    "#     stoptimes = stoptimes.groupby([stoptimes.tmstmp.dt.date, \"tatripid\"]).agg(\"last\")\n",
    "#     stoptimes.index.names = [\"date\", \"tatripid\"]\n",
    "#     return stoptimes"
   ]
  },
  {
   "cell_type": "code",
   "execution_count": 40,
   "id": "425e0e2c",
   "metadata": {},
   "outputs": [],
   "source": [
    "# this is where new files are created\n",
    "newRoutes = formatting(df)\n",
    "oldRoutes = formatting(dfOldData)\n",
    "# newRoutes.to_csv(r'/Users/Angela/Desktop/newRoutes.csv')\n",
    "# oldRoutes.to_csv(r'/Users/Angela/Desktop/oldRoutes.csv')"
   ]
  },
  {
   "cell_type": "code",
   "execution_count": 37,
   "id": "4f343351",
   "metadata": {},
   "outputs": [],
   "source": [
    "def WaittimesCalc(indata, stops, direction) :\n",
    "    intimes = indata[indata.rtdir.eq(direction) & indata.stpnm.isin(stops)]\n",
    "    # !! limiting line below\n",
    "    # idk how to get this work without losing all direction, stop, and bus route info\n",
    "    waittimes = intimes.tmstmp.reset_index(level=1).groupby(\"date\").agg(lambda x: x.sort_values().diff())\n",
    "    # !! limiting line above\n",
    "    waittimes = waittimes.reset_index()\n",
    "    waittimes = pd.concat([waittimes.drop(['tmstmp'], axis=1), waittimes['tmstmp'].apply(pd.Series)], axis=1)\n",
    "    waittimes = waittimes.melt(id_vars=[\"date\"])\n",
    "    waittimes = waittimes[[\"date\", \"value\"]]\n",
    "    waittimes[\"value\"] = waittimes.value.dt.total_seconds()/60\n",
    "    waittimes[\"zscores\"] = (waittimes[\"value\"] - waittimes[\"value\"].mean())/waittimes[\"value\"].std()\n",
    "    waittimes = waittimes[waittimes.zscores < 3]\n",
    "    return waittimes"
   ]
  },
  {
   "cell_type": "code",
   "execution_count": 38,
   "id": "75f09259",
   "metadata": {},
   "outputs": [],
   "source": [
    "def avgWaitCalc(indata, stops, direction) :\n",
    "    waittimes = WaittimesCalc(indata, stops, direction)\n",
    "    return waittimes.value.mean()"
   ]
  },
  {
   "cell_type": "code",
   "execution_count": 10,
   "id": "69c497ec",
   "metadata": {},
   "outputs": [],
   "source": [
    "def avgWaitCalcRt(indata, stops, direction, routes) :\n",
    "    rtData = indata[indata.rt.isin(routes)]\n",
    "    return avgWaitCalc(rtData, stops, direction)"
   ]
  },
  {
   "cell_type": "code",
   "execution_count": 11,
   "id": "8ca9c5be",
   "metadata": {},
   "outputs": [],
   "source": [
    "def graphWaittimes(indata, stops, direction) :\n",
    "    waittimes = WaittimesCalc(indata, stops, direction)\n",
    "    return sns.displot(waittimes.value)"
   ]
  },
  {
   "cell_type": "code",
   "execution_count": 39,
   "id": "a43ed85f",
   "metadata": {},
   "outputs": [
    {
     "data": {
      "text/plain": [
       "2.6802911534154537"
      ]
     },
     "execution_count": 39,
     "metadata": {},
     "output_type": "execute_result"
    }
   ],
   "source": [
    "avgWaitCalc(newRoutes, [\"Central Campus Transit Center: Chemistry\", \"Central Campus Transit Center: Ruthven Museum\"] , \"NORTHBOUND\")"
   ]
  },
  {
   "cell_type": "code",
   "execution_count": 41,
   "id": "fead3254",
   "metadata": {},
   "outputs": [
    {
     "data": {
      "text/plain": [
       "6.29842180774749"
      ]
     },
     "execution_count": 41,
     "metadata": {},
     "output_type": "execute_result"
    }
   ],
   "source": [
    "avgWaitCalcRt(newRoutes, [\"Central Campus Transit Center: Chemistry\", \"Central Campus Transit Center: Ruthven Museum\"] , \"NORTHBOUND\", [\"BB\"])"
   ]
  },
  {
   "cell_type": "code",
   "execution_count": 42,
   "id": "ee059587",
   "metadata": {},
   "outputs": [
    {
     "data": {
      "text/plain": [
       "10.755905511811024"
      ]
     },
     "execution_count": 42,
     "metadata": {},
     "output_type": "execute_result"
    }
   ],
   "source": [
    "avgWaitCalcRt(newRoutes, [\"Central Campus Transit Center: Chemistry\", \"Central Campus Transit Center: Ruthven Museum\"] , \"NORTHBOUND\", [\"DD\"])"
   ]
  },
  {
   "cell_type": "code",
   "execution_count": 43,
   "id": "af9e1c5d",
   "metadata": {},
   "outputs": [
    {
     "data": {
      "text/plain": [
       "10.587223587223587"
      ]
     },
     "execution_count": 43,
     "metadata": {},
     "output_type": "execute_result"
    }
   ],
   "source": [
    "avgWaitCalcRt(newRoutes, ['Crisler Center/Lot SC-7'], 'NORTHBOUND', ['CN'])"
   ]
  },
  {
   "cell_type": "code",
   "execution_count": 45,
   "id": "f95ab2b8",
   "metadata": {},
   "outputs": [
    {
     "data": {
      "text/plain": [
       "6.207868852459017"
      ]
     },
     "execution_count": 45,
     "metadata": {},
     "output_type": "execute_result"
    }
   ],
   "source": [
    "# this isn't working\n",
    "avgWaitCalc(oldRoutes, [\"Central Campus Transit Center: Ruthven Museum\"] , \"NORTHBOUND\")"
   ]
  },
  {
   "cell_type": "code",
   "execution_count": null,
   "id": "c2c98850",
   "metadata": {},
   "outputs": [],
   "source": []
  }
 ],
 "metadata": {
  "kernelspec": {
   "display_name": "Python 3",
   "language": "python",
   "name": "python3"
  },
  "language_info": {
   "codemirror_mode": {
    "name": "ipython",
    "version": 3
   },
   "file_extension": ".py",
   "mimetype": "text/x-python",
   "name": "python",
   "nbconvert_exporter": "python",
   "pygments_lexer": "ipython3",
   "version": "3.8.8"
  }
 },
 "nbformat": 4,
 "nbformat_minor": 5
}
