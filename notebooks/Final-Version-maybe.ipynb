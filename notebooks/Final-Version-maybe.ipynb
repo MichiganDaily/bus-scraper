{
 "cells": [
  {
   "cell_type": "code",
   "execution_count": 1,
   "id": "eb0d55b8",
   "metadata": {},
   "outputs": [],
   "source": [
    "import pandas as pd\n",
    "import numpy as np\n",
    "import matplotlib.pyplot as plt\n",
    "import seaborn as sns\n",
    "sns.set()\n",
    "\n",
    "import datetime"
   ]
  },
  {
   "cell_type": "code",
   "execution_count": 2,
   "id": "9cc78ccd",
   "metadata": {},
   "outputs": [],
   "source": [
    "df = pd.read_csv(\"thursday.csv\")\n",
    "dfOldData = pd.read_csv(\"output.csv\")"
   ]
  },
  {
   "cell_type": "code",
   "execution_count": 14,
   "id": "a7c373d7",
   "metadata": {},
   "outputs": [
    {
     "data": {
      "text/plain": [
       "array(['BB', 'NW', 'WX', 'MX', 'CN', 'CS', 'WS', 'NE', 'NX', 'DD', 'CSX'],\n",
       "      dtype=object)"
      ]
     },
     "execution_count": 14,
     "metadata": {},
     "output_type": "execute_result"
    }
   ],
   "source": [
    "df.rt.unique()"
   ]
  },
  {
   "cell_type": "code",
   "execution_count": 15,
   "id": "5eff9a62",
   "metadata": {},
   "outputs": [
    {
     "data": {
      "text/plain": [
       "array(['Baits II Inbound', 'Bursley Hall Inbound',\n",
       "       'Hayward/Hubbard  Hubbard Outbound', 'Glen/Catherine Outbound',\n",
       "       'Fuller Rd at Mitchell Field  Lot M-75',\n",
       "       'Central Campus Transit Center: Ruthven Museum',\n",
       "       'Pierpont Commons  Murfin Outbound', 'FXB Inbound',\n",
       "       'Cooley Lab Inbound', 'Northwood I Outbound',\n",
       "       'NCAC, Hubbard Outbound',\n",
       "       'Fuller Rd at Lot NC-78  Mitchell Field (1)', 'Northwood V (3)',\n",
       "       'Power Center', 'Glen/Catherine Inbound',\n",
       "       'Pierpont Commons  Bonisteel Inbound', 'Cardiovascular Center',\n",
       "       'NCAC  Hubbard Inbound', 'Hayward/Hubbard  Hubbard Inbound',\n",
       "       'Plymouth Rd Crosswalk', 'Northwood Community Center',\n",
       "       'Northwood III Outbound', 'Northwood II Outbound',\n",
       "       'Stockwell Hall Outbound', 'Rackham Bldg',\n",
       "       'Central Campus Transit Center: Chemistry', 'Couzens Hall',\n",
       "       'Cancer Center Inbound', 'Mott Hospital', 'Markley Hall',\n",
       "       'Taubman Outbound', 'Cancer Center Outbound', 'Taubman Inbound',\n",
       "       'Maiden Lane', 'Wall St Structure', 'Glazier Way  Lot NC-51  West',\n",
       "       'Glazier Way  Lot NC-51  North', 'Glazier Way  Lot NC-51  East',\n",
       "       'Fuller Rd at Lot NC-78  Mitchell Field (3)',\n",
       "       'VA Hospital  Fuller Rd', 'Art & Architecture', 'FXB Outbound',\n",
       "       'Crisler Center/Lot SC-7', 'Facilities Services Building',\n",
       "       'Intramural Building Outbound', 'Law Quad',\n",
       "       'Michigan Union  S. State', 'Kraus Building',\n",
       "       'Hayward/Hubbard  Hayward Outbound', 'North Ingalls Building',\n",
       "       'Biomedical Science Research Bldg',\n",
       "       'Institute for Continuing Legal Education', 'NCRC South',\n",
       "       'Biomedical Engineering Bldg', 'Green Rd Park & Ride Outbound',\n",
       "       'Oxford Housing', 'East Quad  Church', 'Henderson House'],\n",
       "      dtype=object)"
      ]
     },
     "execution_count": 15,
     "metadata": {},
     "output_type": "execute_result"
    }
   ],
   "source": [
    "df.stpnm.unique()"
   ]
  },
  {
   "cell_type": "code",
   "execution_count": 3,
   "id": "c54c161c",
   "metadata": {},
   "outputs": [],
   "source": [
    "def formatting(indata, stops, direction) :\n",
    "    indata.tmstmp = pd.to_datetime(indata.tmstmp)\n",
    "    stoptimes = indata[indata.rtdir.eq(direction) & indata.stpnm.isin(stops)]\n",
    "    stoptimes = stoptimes.groupby([stoptimes.tmstmp.dt.date, \"tatripid\"]).agg(\"last\")\n",
    "    stoptimes.index.names = [\"date\", \"tatripid\"]\n",
    "    return stoptimes"
   ]
  },
  {
   "cell_type": "code",
   "execution_count": 4,
   "id": "4f343351",
   "metadata": {},
   "outputs": [],
   "source": [
    "def WaittimesCalc(indata, stops, direction) :\n",
    "    intimes = formatting(indata, stops, direction)\n",
    "    waittimes = intimes.tmstmp.reset_index(level=1).groupby(\"date\").agg(lambda x: x.sort_values().diff())\n",
    "    waittimes = waittimes.reset_index()\n",
    "    waittimes = pd.concat([waittimes.drop(['tmstmp'], axis=1), waittimes['tmstmp'].apply(pd.Series)], axis=1)\n",
    "    waittimes = waittimes.melt(id_vars=[\"date\"])\n",
    "    waittimes = waittimes[[\"date\", \"value\"]]\n",
    "    waittimes[\"value\"] = waittimes.value.dt.total_seconds()/60\n",
    "    waittimes[\"zscores\"] = (waittimes[\"value\"] - waittimes[\"value\"].mean())/waittimes[\"value\"].std()\n",
    "    waittimes = waittimes[waittimes.zscores < 3]\n",
    "    return waittimes"
   ]
  },
  {
   "cell_type": "code",
   "execution_count": 5,
   "id": "75f09259",
   "metadata": {},
   "outputs": [],
   "source": [
    "def avgWaitCalc(indata, stops, direction) :\n",
    "    waittimes = WaittimesCalc(indata, stops, direction)\n",
    "    return waittimes.value.mean()"
   ]
  },
  {
   "cell_type": "code",
   "execution_count": 6,
   "id": "69c497ec",
   "metadata": {},
   "outputs": [],
   "source": [
    "def avgWaitCalcRt(indata, stops, direction, routes) :\n",
    "    rtData = indata[indata.rt.isin(routes)]\n",
    "    return avgWaitCalc(rtData, stops, direction)"
   ]
  },
  {
   "cell_type": "code",
   "execution_count": 7,
   "id": "8ca9c5be",
   "metadata": {},
   "outputs": [],
   "source": [
    "def graphWaittimes(indata, stops, direction) :\n",
    "    waittimes = WaittimesCalc(indata, stops, direction)\n",
    "    return sns.displot(waittimes.value)"
   ]
  },
  {
   "cell_type": "code",
   "execution_count": 8,
   "id": "a43ed85f",
   "metadata": {},
   "outputs": [
    {
     "data": {
      "text/plain": [
       "2.6802911534154537"
      ]
     },
     "execution_count": 8,
     "metadata": {},
     "output_type": "execute_result"
    }
   ],
   "source": [
    "avgWaitCalc(df, [\"Central Campus Transit Center: Chemistry\", \"Central Campus Transit Center: Ruthven Museum\"] , \"NORTHBOUND\")"
   ]
  },
  {
   "cell_type": "code",
   "execution_count": 9,
   "id": "fead3254",
   "metadata": {},
   "outputs": [
    {
     "name": "stderr",
     "output_type": "stream",
     "text": [
      "/Users/Angela/opt/anaconda3/lib/python3.8/site-packages/pandas/core/generic.py:5494: SettingWithCopyWarning: \n",
      "A value is trying to be set on a copy of a slice from a DataFrame.\n",
      "Try using .loc[row_indexer,col_indexer] = value instead\n",
      "\n",
      "See the caveats in the documentation: https://pandas.pydata.org/pandas-docs/stable/user_guide/indexing.html#returning-a-view-versus-a-copy\n",
      "  self[name] = value\n"
     ]
    },
    {
     "data": {
      "text/plain": [
       "6.29842180774749"
      ]
     },
     "execution_count": 9,
     "metadata": {},
     "output_type": "execute_result"
    }
   ],
   "source": [
    "avgWaitCalcRt(df, [\"Central Campus Transit Center: Chemistry\", \"Central Campus Transit Center: Ruthven Museum\"] , \"NORTHBOUND\", [\"BB\"])"
   ]
  },
  {
   "cell_type": "code",
   "execution_count": 13,
   "id": "ee059587",
   "metadata": {},
   "outputs": [
    {
     "data": {
      "text/plain": [
       "10.755905511811024"
      ]
     },
     "execution_count": 13,
     "metadata": {},
     "output_type": "execute_result"
    }
   ],
   "source": [
    "avgWaitCalcRt(df, [\"Central Campus Transit Center: Chemistry\", \"Central Campus Transit Center: Ruthven Museum\"] , \"NORTHBOUND\", [\"DD\"])"
   ]
  },
  {
   "cell_type": "code",
   "execution_count": 21,
   "id": "af9e1c5d",
   "metadata": {},
   "outputs": [
    {
     "name": "stderr",
     "output_type": "stream",
     "text": [
      "/Users/Angela/opt/anaconda3/lib/python3.8/site-packages/pandas/core/generic.py:5494: SettingWithCopyWarning: \n",
      "A value is trying to be set on a copy of a slice from a DataFrame.\n",
      "Try using .loc[row_indexer,col_indexer] = value instead\n",
      "\n",
      "See the caveats in the documentation: https://pandas.pydata.org/pandas-docs/stable/user_guide/indexing.html#returning-a-view-versus-a-copy\n",
      "  self[name] = value\n"
     ]
    },
    {
     "data": {
      "text/plain": [
       "10.587223587223587"
      ]
     },
     "execution_count": 21,
     "metadata": {},
     "output_type": "execute_result"
    }
   ],
   "source": [
    "avgWaitCalcRt(df, ['Crisler Center/Lot SC-7'], 'NORTHBOUND', ['CN'])"
   ]
  },
  {
   "cell_type": "code",
   "execution_count": 12,
   "id": "f95ab2b8",
   "metadata": {},
   "outputs": [
    {
     "ename": "AttributeError",
     "evalue": "Can only use .dt accessor with datetimelike values",
     "output_type": "error",
     "traceback": [
      "\u001b[0;31m---------------------------------------------------------------------------\u001b[0m",
      "\u001b[0;31mAttributeError\u001b[0m                            Traceback (most recent call last)",
      "\u001b[0;32m<ipython-input-12-1d04bea1fc37>\u001b[0m in \u001b[0;36m<module>\u001b[0;34m\u001b[0m\n\u001b[0;32m----> 1\u001b[0;31m \u001b[0mavgWaitCalc\u001b[0m\u001b[0;34m(\u001b[0m\u001b[0mdfOldData\u001b[0m\u001b[0;34m,\u001b[0m \u001b[0;34m[\u001b[0m\u001b[0;34m\"Central Campus Transit Center: Chemistry\"\u001b[0m\u001b[0;34m]\u001b[0m \u001b[0;34m,\u001b[0m \u001b[0;34m\"NORTHBOUND\"\u001b[0m\u001b[0;34m)\u001b[0m\u001b[0;34m\u001b[0m\u001b[0;34m\u001b[0m\u001b[0m\n\u001b[0m",
      "\u001b[0;32m<ipython-input-5-84a7c10d4322>\u001b[0m in \u001b[0;36mavgWaitCalc\u001b[0;34m(indata, stops, direction)\u001b[0m\n\u001b[1;32m      1\u001b[0m \u001b[0;32mdef\u001b[0m \u001b[0mavgWaitCalc\u001b[0m\u001b[0;34m(\u001b[0m\u001b[0mindata\u001b[0m\u001b[0;34m,\u001b[0m \u001b[0mstops\u001b[0m\u001b[0;34m,\u001b[0m \u001b[0mdirection\u001b[0m\u001b[0;34m)\u001b[0m \u001b[0;34m:\u001b[0m\u001b[0;34m\u001b[0m\u001b[0;34m\u001b[0m\u001b[0m\n\u001b[0;32m----> 2\u001b[0;31m     \u001b[0mwaittimes\u001b[0m \u001b[0;34m=\u001b[0m \u001b[0mWaittimesCalc\u001b[0m\u001b[0;34m(\u001b[0m\u001b[0mindata\u001b[0m\u001b[0;34m,\u001b[0m \u001b[0mstops\u001b[0m\u001b[0;34m,\u001b[0m \u001b[0mdirection\u001b[0m\u001b[0;34m)\u001b[0m\u001b[0;34m\u001b[0m\u001b[0;34m\u001b[0m\u001b[0m\n\u001b[0m\u001b[1;32m      3\u001b[0m     \u001b[0;32mreturn\u001b[0m \u001b[0mwaittimes\u001b[0m\u001b[0;34m.\u001b[0m\u001b[0mvalue\u001b[0m\u001b[0;34m.\u001b[0m\u001b[0mmean\u001b[0m\u001b[0;34m(\u001b[0m\u001b[0;34m)\u001b[0m\u001b[0;34m\u001b[0m\u001b[0;34m\u001b[0m\u001b[0m\n",
      "\u001b[0;32m<ipython-input-4-46a4b65d0605>\u001b[0m in \u001b[0;36mWaittimesCalc\u001b[0;34m(indata, stops, direction)\u001b[0m\n\u001b[1;32m      6\u001b[0m     \u001b[0mwaittimes\u001b[0m \u001b[0;34m=\u001b[0m \u001b[0mwaittimes\u001b[0m\u001b[0;34m.\u001b[0m\u001b[0mmelt\u001b[0m\u001b[0;34m(\u001b[0m\u001b[0mid_vars\u001b[0m\u001b[0;34m=\u001b[0m\u001b[0;34m[\u001b[0m\u001b[0;34m\"date\"\u001b[0m\u001b[0;34m]\u001b[0m\u001b[0;34m)\u001b[0m\u001b[0;34m\u001b[0m\u001b[0;34m\u001b[0m\u001b[0m\n\u001b[1;32m      7\u001b[0m     \u001b[0mwaittimes\u001b[0m \u001b[0;34m=\u001b[0m \u001b[0mwaittimes\u001b[0m\u001b[0;34m[\u001b[0m\u001b[0;34m[\u001b[0m\u001b[0;34m\"date\"\u001b[0m\u001b[0;34m,\u001b[0m \u001b[0;34m\"value\"\u001b[0m\u001b[0;34m]\u001b[0m\u001b[0;34m]\u001b[0m\u001b[0;34m\u001b[0m\u001b[0;34m\u001b[0m\u001b[0m\n\u001b[0;32m----> 8\u001b[0;31m     \u001b[0mwaittimes\u001b[0m\u001b[0;34m[\u001b[0m\u001b[0;34m\"value\"\u001b[0m\u001b[0;34m]\u001b[0m \u001b[0;34m=\u001b[0m \u001b[0mwaittimes\u001b[0m\u001b[0;34m.\u001b[0m\u001b[0mvalue\u001b[0m\u001b[0;34m.\u001b[0m\u001b[0mdt\u001b[0m\u001b[0;34m.\u001b[0m\u001b[0mtotal_seconds\u001b[0m\u001b[0;34m(\u001b[0m\u001b[0;34m)\u001b[0m\u001b[0;34m/\u001b[0m\u001b[0;36m60\u001b[0m\u001b[0;34m\u001b[0m\u001b[0;34m\u001b[0m\u001b[0m\n\u001b[0m\u001b[1;32m      9\u001b[0m     \u001b[0mwaittimes\u001b[0m\u001b[0;34m[\u001b[0m\u001b[0;34m\"zscores\"\u001b[0m\u001b[0;34m]\u001b[0m \u001b[0;34m=\u001b[0m \u001b[0;34m(\u001b[0m\u001b[0mwaittimes\u001b[0m\u001b[0;34m[\u001b[0m\u001b[0;34m\"value\"\u001b[0m\u001b[0;34m]\u001b[0m \u001b[0;34m-\u001b[0m \u001b[0mwaittimes\u001b[0m\u001b[0;34m[\u001b[0m\u001b[0;34m\"value\"\u001b[0m\u001b[0;34m]\u001b[0m\u001b[0;34m.\u001b[0m\u001b[0mmean\u001b[0m\u001b[0;34m(\u001b[0m\u001b[0;34m)\u001b[0m\u001b[0;34m)\u001b[0m\u001b[0;34m/\u001b[0m\u001b[0mwaittimes\u001b[0m\u001b[0;34m[\u001b[0m\u001b[0;34m\"value\"\u001b[0m\u001b[0;34m]\u001b[0m\u001b[0;34m.\u001b[0m\u001b[0mstd\u001b[0m\u001b[0;34m(\u001b[0m\u001b[0;34m)\u001b[0m\u001b[0;34m\u001b[0m\u001b[0;34m\u001b[0m\u001b[0m\n\u001b[1;32m     10\u001b[0m     \u001b[0mwaittimes\u001b[0m \u001b[0;34m=\u001b[0m \u001b[0mwaittimes\u001b[0m\u001b[0;34m[\u001b[0m\u001b[0mwaittimes\u001b[0m\u001b[0;34m.\u001b[0m\u001b[0mzscores\u001b[0m \u001b[0;34m<\u001b[0m \u001b[0;36m3\u001b[0m\u001b[0;34m]\u001b[0m\u001b[0;34m\u001b[0m\u001b[0;34m\u001b[0m\u001b[0m\n",
      "\u001b[0;32m~/opt/anaconda3/lib/python3.8/site-packages/pandas/core/generic.py\u001b[0m in \u001b[0;36m__getattr__\u001b[0;34m(self, name)\u001b[0m\n\u001b[1;32m   5459\u001b[0m             \u001b[0;32mor\u001b[0m \u001b[0mname\u001b[0m \u001b[0;32min\u001b[0m \u001b[0mself\u001b[0m\u001b[0;34m.\u001b[0m\u001b[0m_accessors\u001b[0m\u001b[0;34m\u001b[0m\u001b[0;34m\u001b[0m\u001b[0m\n\u001b[1;32m   5460\u001b[0m         ):\n\u001b[0;32m-> 5461\u001b[0;31m             \u001b[0;32mreturn\u001b[0m \u001b[0mobject\u001b[0m\u001b[0;34m.\u001b[0m\u001b[0m__getattribute__\u001b[0m\u001b[0;34m(\u001b[0m\u001b[0mself\u001b[0m\u001b[0;34m,\u001b[0m \u001b[0mname\u001b[0m\u001b[0;34m)\u001b[0m\u001b[0;34m\u001b[0m\u001b[0;34m\u001b[0m\u001b[0m\n\u001b[0m\u001b[1;32m   5462\u001b[0m         \u001b[0;32melse\u001b[0m\u001b[0;34m:\u001b[0m\u001b[0;34m\u001b[0m\u001b[0;34m\u001b[0m\u001b[0m\n\u001b[1;32m   5463\u001b[0m             \u001b[0;32mif\u001b[0m \u001b[0mself\u001b[0m\u001b[0;34m.\u001b[0m\u001b[0m_info_axis\u001b[0m\u001b[0;34m.\u001b[0m\u001b[0m_can_hold_identifiers_and_holds_name\u001b[0m\u001b[0;34m(\u001b[0m\u001b[0mname\u001b[0m\u001b[0;34m)\u001b[0m\u001b[0;34m:\u001b[0m\u001b[0;34m\u001b[0m\u001b[0;34m\u001b[0m\u001b[0m\n",
      "\u001b[0;32m~/opt/anaconda3/lib/python3.8/site-packages/pandas/core/accessor.py\u001b[0m in \u001b[0;36m__get__\u001b[0;34m(self, obj, cls)\u001b[0m\n\u001b[1;32m    178\u001b[0m             \u001b[0;31m# we're accessing the attribute of the class, i.e., Dataset.geo\u001b[0m\u001b[0;34m\u001b[0m\u001b[0;34m\u001b[0m\u001b[0;34m\u001b[0m\u001b[0m\n\u001b[1;32m    179\u001b[0m             \u001b[0;32mreturn\u001b[0m \u001b[0mself\u001b[0m\u001b[0;34m.\u001b[0m\u001b[0m_accessor\u001b[0m\u001b[0;34m\u001b[0m\u001b[0;34m\u001b[0m\u001b[0m\n\u001b[0;32m--> 180\u001b[0;31m         \u001b[0maccessor_obj\u001b[0m \u001b[0;34m=\u001b[0m \u001b[0mself\u001b[0m\u001b[0;34m.\u001b[0m\u001b[0m_accessor\u001b[0m\u001b[0;34m(\u001b[0m\u001b[0mobj\u001b[0m\u001b[0;34m)\u001b[0m\u001b[0;34m\u001b[0m\u001b[0;34m\u001b[0m\u001b[0m\n\u001b[0m\u001b[1;32m    181\u001b[0m         \u001b[0;31m# Replace the property with the accessor object. Inspired by:\u001b[0m\u001b[0;34m\u001b[0m\u001b[0;34m\u001b[0m\u001b[0;34m\u001b[0m\u001b[0m\n\u001b[1;32m    182\u001b[0m         \u001b[0;31m# https://www.pydanny.com/cached-property.html\u001b[0m\u001b[0;34m\u001b[0m\u001b[0;34m\u001b[0m\u001b[0;34m\u001b[0m\u001b[0m\n",
      "\u001b[0;32m~/opt/anaconda3/lib/python3.8/site-packages/pandas/core/indexes/accessors.py\u001b[0m in \u001b[0;36m__new__\u001b[0;34m(cls, data)\u001b[0m\n\u001b[1;32m    492\u001b[0m             \u001b[0;32mreturn\u001b[0m \u001b[0mPeriodProperties\u001b[0m\u001b[0;34m(\u001b[0m\u001b[0mdata\u001b[0m\u001b[0;34m,\u001b[0m \u001b[0morig\u001b[0m\u001b[0;34m)\u001b[0m\u001b[0;34m\u001b[0m\u001b[0;34m\u001b[0m\u001b[0m\n\u001b[1;32m    493\u001b[0m \u001b[0;34m\u001b[0m\u001b[0m\n\u001b[0;32m--> 494\u001b[0;31m         \u001b[0;32mraise\u001b[0m \u001b[0mAttributeError\u001b[0m\u001b[0;34m(\u001b[0m\u001b[0;34m\"Can only use .dt accessor with datetimelike values\"\u001b[0m\u001b[0;34m)\u001b[0m\u001b[0;34m\u001b[0m\u001b[0;34m\u001b[0m\u001b[0m\n\u001b[0m",
      "\u001b[0;31mAttributeError\u001b[0m: Can only use .dt accessor with datetimelike values"
     ]
    }
   ],
   "source": [
    "# this isn't working\n",
    "avgWaitCalc(dfOldData, [\"Central Campus Transit Center: Chemistry\"] , \"NORTHBOUND\")"
   ]
  }
 ],
 "metadata": {
  "kernelspec": {
   "display_name": "Python 3",
   "language": "python",
   "name": "python3"
  },
  "language_info": {
   "codemirror_mode": {
    "name": "ipython",
    "version": 3
   },
   "file_extension": ".py",
   "mimetype": "text/x-python",
   "name": "python",
   "nbconvert_exporter": "python",
   "pygments_lexer": "ipython3",
   "version": "3.8.8"
  }
 },
 "nbformat": 4,
 "nbformat_minor": 5
}
